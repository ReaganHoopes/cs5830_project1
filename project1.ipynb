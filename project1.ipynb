{
 "cells": [
  {
   "cell_type": "markdown",
   "id": "b0052f2f",
   "metadata": {},
   "source": [
    "# Imports"
   ]
  },
  {
   "cell_type": "code",
   "execution_count": null,
   "id": "47dd714d",
   "metadata": {},
   "outputs": [],
   "source": [
    "import numpy as np\n",
    "import pandas as pd\n",
    "import seaborn as sns\n",
    "import matplotlib.pyplot as plt\n",
    "import numpy\n",
    "import datetime as dt\n",
    "from scipy.stats import pearsonr\n",
    "import plotly\n",
    "import plotly.express as px  \n",
    "\n",
    "from wordcloud import WordCloud, STOPWORDS"
   ]
  },
  {
   "cell_type": "markdown",
   "id": "e8c01d69",
   "metadata": {},
   "source": [
    "# Analysis 1"
   ]
  },
  {
   "cell_type": "markdown",
   "id": "6b709a4c",
   "metadata": {},
   "source": [
    "# How many players are starting their career as baseball players each year"
   ]
  },
  {
   "cell_type": "code",
   "execution_count": null,
   "id": "f20aedc1",
   "metadata": {},
   "outputs": [],
   "source": [
    "# create dataframe for players information\n",
    "people = pd.read_csv(\"baseballdatabank-2022.2/core/People.csv\")\n",
    "\n",
    "# coverting object datatype to the datetime datatype for column debut\n",
    "people['debut'] = pd.to_datetime(people['debut'])\n",
    "\n",
    "# creating a column for getting debut year of the players\n",
    "people['debutyear'] = people['debut'].dt.year\n",
    "\n",
    "# Replacing the null values with zero\n",
    "people = people.fillna(0)\n",
    "\n",
    "# converting the data type from float to int\n",
    "people['debutyear']= people.debutyear.astype('int64')\n",
    "\n",
    "# creating a dataframe for getting only required columns\n",
    "people_debut = people.copy()[['playerID','debutyear','debut']]\n",
    "\n",
    "# created a new column to the dataframe to assign a count value for players\n",
    "people_debut['debut_count'] = 1\n",
    "\n",
    "# grouping the players according to their debut year\n",
    "group_people = people_debut.groupby('debutyear').sum(numeric_only=\"True\").copy()\n",
    "\n",
    "# deleting the row of Nan values \n",
    "group_people = group_people.drop(labels=0,axis=0,inplace=False)\n",
    "\n",
    "# plotting a line graph to demonstrate the variation of player debut over the years \n",
    "# sns.lineplot('debutyear','debut_count', data = group_people)\n",
    "\n",
    "print(\"Average number of players debuting: \" + str(group_people.debut_count.mean()))\n",
    "\n",
    "#Create and Lineplot\n",
    "fig, lp = plt.subplots(figsize=(10, 6))\n",
    "# plot = sns.lineplot(x= group_people['debutyear'] , y=group_people['debut_count'])\n",
    "# plot = sns.lineplot('debutyear','debut_count', data = group_people)\n",
    "plot = sns.lineplot(x='debutyear',y='debut_count', data = group_people)\n",
    "plt.title('Players debut over the years')\n",
    "plt.xlabel('Years')\n",
    "plt.ylabel('Players Debut Count')\n",
    "plt.savefig('graphics/debut_year.pdf', bbox_inches='tight')\n",
    "plt.show()\n"
   ]
  },
  {
   "cell_type": "markdown",
   "id": "5e4b5516",
   "metadata": {},
   "source": [
    "# Analysis 2"
   ]
  },
  {
   "cell_type": "markdown",
   "id": "0e99f1d6",
   "metadata": {},
   "source": [
    "# From what state of USA most of the baseball players are originated."
   ]
  },
  {
   "cell_type": "code",
   "execution_count": null,
   "id": "83e8263b",
   "metadata": {},
   "outputs": [],
   "source": [
    "# Selecting only required row from the people Dataset that was used in dataset 1\n",
    "country = people[['playerID','birthCountry','birthState']]\n",
    "\n",
    "# Cerating a data frame by Grouping the data by country\n",
    "country_df = country.groupby(by=\"birthCountry\").sum(numeric_only=\"True\").copy()\n",
    "\n",
    "# sorted the data and have taken the data of USA\n",
    "country_df = country[country['birthCountry'] == 'USA'].copy()\n",
    "\n",
    "# added a column \"count\" and assigning the value of one to it.\n",
    "country_df['count'] = 1\n",
    "\n",
    "#  updated the dataframe by grouping the same state data\n",
    "country_df = country_df.groupby(by=\"birthState\").sum(numeric_only=\"True\").copy()\n",
    "\n",
    "# reset the index and renamed few columns of the dataframe\n",
    "country_df = country_df.reset_index()\n",
    "country_df.rename(columns = {'birthState': 'State', 'count': 'Count'}, inplace = True)\n",
    "\n",
    "# Ploting USA map\n",
    "fig = px.choropleth(country_df,  \n",
    "                    locations=\"State\",  \n",
    "                    color=\"Count\", \n",
    "                    color_continuous_scale=\"ylorrd\",\n",
    "                    hover_name=\"State\", \n",
    "                    locationmode = 'USA-states'\n",
    "                    )\n",
    "fig.update_layout(\n",
    "    title_text = 'In What State Were the Most Number of Professional Baseball Players Born?', \n",
    "    geo_scope='usa',\n",
    ")\n",
    "\n",
    "fig.write_image('graphics/states_born.pdf')\n",
    "fig.show()"
   ]
  },
  {
   "cell_type": "markdown",
   "id": "dc0ca6c2",
   "metadata": {},
   "source": [
    "# Analysis 3"
   ]
  },
  {
   "cell_type": "markdown",
   "id": "b26ab6cd",
   "metadata": {},
   "source": [
    "## Number of Players in the MLB Since 1948 by Last School Attended"
   ]
  },
  {
   "cell_type": "code",
   "execution_count": null,
   "id": "017e7e2f",
   "metadata": {},
   "outputs": [],
   "source": [
    "#Create dataframes for college playing information and list of schools\n",
    "college_df = pd.read_csv(\"baseballdatabank-2022.2/contrib/CollegePlaying.csv\")\n",
    "schools_df = pd.read_csv(\"baseballdatabank-2022.2/contrib/Schools.csv\")\n",
    "\n",
    "#Save for later analyses\n",
    "schools_states_df = schools_df.copy().drop(columns=[\"city\", \"country\", \"name_full\"])\n",
    "\n",
    "#Sort college playing information by player, then year\n",
    "college_df = college_df.sort_values(by=['playerID', 'yearID'], ascending=[False, False])\n",
    "\n",
    "#Only keep data since from 1948 and after, convert year to string, group each player, and concatenate schoolIDs and years\n",
    "college_df = college_df[college_df['yearID'] > 1947] \n",
    "college_df = college_df.astype({'yearID':'string'})\n",
    "college_df = college_df.groupby(by=\"playerID\").agg({'schoolID': ' '.join, 'yearID': ' '.join})\n",
    "\n",
    "#Only want to look at the school that was most recently attended before entering the MLB (so if an athlete has transfered, the first institution attended is ignored)\n",
    "college_df[\"schoolID\"] = college_df[\"schoolID\"].str.split(\" \").str[0]\n",
    "college_df[\"yearID\"] = college_df[\"yearID\"].str.split(\" \").str[0]\n",
    "\n",
    "#Add a player count column and group columns by the school (to get the number of MLB players from each school)\n",
    "college_df['player_ct'] = 1\n",
    "college_df = college_df.groupby(by=\"schoolID\").sum(numeric_only=True)\n",
    "\n",
    "#Sort colleges by number of players and reset the index\n",
    "college_df = college_df.sort_values(by=['player_ct'], ascending=[False])\n",
    "college_df = college_df.reset_index()\n",
    "\n",
    "#Drop city and country data from schools dataframe and merge with college playing dataframe\n",
    "schools_df = schools_df.drop(columns=[\"city\", \"country\"])\n",
    "college_df = pd.merge(college_df, schools_df)\n",
    "\n",
    "#Drop the school ID and rename \"name_full\" column to \"school\"\n",
    "college_df = college_df.drop(columns=[\"schoolID\"])\n",
    "college_df.rename(columns = {'name_full': 'school'}, inplace = True)\n",
    "\n",
    "#Keep only the top n schools by number of players in the MLB\n",
    "n = 30\n",
    "college_n_df = college_df.copy().head(n)\n",
    "\n",
    "#Create and plot bargraph\n",
    "fig, ax = plt.subplots(figsize=(10, 6))\n",
    "plot = sns.barplot(x=college_n_df.school, y=college_n_df['player_ct'])\n",
    "plt.setp(plot.get_xticklabels(), rotation=90)\n",
    "plt.title('Top ' + str(n) + ' Schools With the Most Number of Players Who Have Entered the MLB since 1948')\n",
    "plt.xlabel('Schools')\n",
    "plt.ylabel('# of Players')\n",
    "plt.savefig('graphics/schools_to_mlb_barchart.pdf', bbox_inches='tight')\n",
    "plt.show()"
   ]
  },
  {
   "cell_type": "markdown",
   "id": "041b79e0",
   "metadata": {},
   "source": [
    "## How many players are entering the MLB from schools in each state?"
   ]
  },
  {
   "cell_type": "code",
   "execution_count": null,
   "id": "ae423bc7",
   "metadata": {},
   "outputs": [],
   "source": [
    "#Drop school column to create a new data frame and sum the number of players who came out of a school in each given state\n",
    "college_states_df = college_df.drop(columns=[\"school\"])\n",
    "college_states_df = college_states_df.groupby(by=\"state\").sum()\n",
    "\n",
    "#Reset index and rename columns\n",
    "college_states_df = college_states_df.reset_index()\n",
    "college_states_df.rename(columns = {'state': 'State', 'player_ct': 'Player Count'}, inplace = True)\n",
    "\n",
    "#Fill in Alaska and Montana (no players)\n",
    "college_states_df.loc[len(college_states_df.index)] = ['AK', 0] \n",
    "college_states_df.loc[len(college_states_df.index)] = ['MT', 0] \n",
    "college_states_df = college_states_df.sort_values(by=['State'], ascending=[True])\n",
    "college_states_df = college_states_df.reset_index().drop(columns=[\"index\"])\n",
    "\n",
    "#Create and plot bargraph\n",
    "fig, ax = plt.subplots(figsize=(10, 6))\n",
    "plot = sns.barplot(x=college_states_df.State, y=college_states_df['Player Count'])\n",
    "plt.setp(plot.get_xticklabels(), rotation=90)\n",
    "plt.title('Number of Players Entering the MLB from Schools in Each State since 1948')\n",
    "plt.xlabel('States')\n",
    "plt.ylabel('# of Players')\n",
    "plt.savefig('graphics/school_state_to_mlb_barchart.pdf', bbox_inches='tight')\n",
    "plt.show()\n",
    "\n",
    "#Plot US heat map\n",
    "#Needed to increase data rate for this: jupyter notebook --NotebookApp.iopub_data_rate_limit=1.0e10\n",
    "fig = px.choropleth(college_states_df,  \n",
    "                    locations=\"State\",  \n",
    "                    color=\"Player Count\", \n",
    "                    hover_name=\"State\", \n",
    "                    color_continuous_scale=\"ylorrd\",\n",
    "                    locationmode = 'USA-states')\n",
    "fig.update_layout(\n",
    "    title_text = 'What States are Home to the Schools Sending the Most Players to the MLB?', \n",
    "    geo_scope='usa',\n",
    ")\n",
    "fig.write_image('graphics/school_state_to_mlb_map.pdf')\n",
    "fig.show()"
   ]
  },
  {
   "cell_type": "markdown",
   "id": "6b09d03a",
   "metadata": {},
   "source": [
    "# Analysis 4"
   ]
  },
  {
   "cell_type": "markdown",
   "id": "b6f16efc",
   "metadata": {},
   "source": [
    "## Obtain Data"
   ]
  },
  {
   "cell_type": "code",
   "execution_count": null,
   "id": "b5948e8d",
   "metadata": {},
   "outputs": [],
   "source": [
    "champs_df = pd.read_csv(\"baseballdatabank-2022.2/outside_data/ncaa_champs_history.csv\")\n",
    "\n",
    "#Removing covid year and any other year with no champs and make a copy \n",
    "champs_df = champs_df[champs_df.runnerup != \"--\"]\n",
    "runnerup_df = champs_df.copy()\n",
    "\n",
    "#Drop columns, so one dataframe has NCAA champions and the other has NCAA runnerups\n",
    "champs_df = champs_df.drop(columns=[\"runnerup\", \"year\", \"runnerupID\"])\n",
    "runnerup_df = runnerup_df.drop(columns=[\"champ\", \"year\", \"champID\"])\n",
    "\n",
    "\n",
    "#Change column names from champ/runnerup to school and create a title_count column which holds the number of respective titles by school\n",
    "champs_df.rename(columns = {'champ': 'school', 'champID': 'schoolID'}, inplace = True)\n",
    "runnerup_df.rename(columns = {'runnerup': 'school', 'runnerupID': 'schoolID'}, inplace = True)\n",
    "champs_df[\"title_count\"] = 1\n",
    "runnerup_df[\"title_count\"] = 1\n",
    "\n",
    "#Get states for each of the schools\n",
    "champs_df = champs_df.reset_index().drop(columns=[\"index\"])\n",
    "champs_df = champs_df.merge(schools_states_df, how='left')\n",
    "runnerup_df = runnerup_df.reset_index().drop(columns=[\"index\"])\n",
    "runnerup_df = runnerup_df.merge(schools_states_df, how='left')\n",
    "champs_df = champs_df.groupby(\"school\").agg({'state': 'min', 'title_count': 'sum'})\n",
    "runnerup_df = runnerup_df.groupby(\"school\").agg({'state': 'min', 'title_count': 'sum'})\n",
    "\n",
    "#Reset index and sort by number of titles\n",
    "champs_df = champs_df.reset_index()\n",
    "runnerup_df = runnerup_df.reset_index()\n",
    "champs_df = champs_df.sort_values(by=[\"title_count\"], ascending=[False])\n",
    "runnerup_df = runnerup_df.sort_values(by=[\"title_count\"], ascending=[False])\n",
    "\n",
    "\n",
    "\n",
    "#Create a dataframe which stores the number of both champion and runnerup titles for each school (remove whitespace), sort by number of titles, reset index\n",
    "combined_df = pd.concat([champs_df, runnerup_df])\n",
    "combined_df = combined_df.apply(lambda x: x.str.strip() if x.dtype == \"object\" else x)\n",
    "combined_df[\"school\"].str.strip()\n",
    "combined_df = combined_df.groupby(by=[\"school\"]).sum(numeric_only=True)\n",
    "combined_df = combined_df.sort_values([\"title_count\"], ascending=[False])\n",
    "combined_df = combined_df.reset_index()"
   ]
  },
  {
   "cell_type": "markdown",
   "id": "f84f9cbd",
   "metadata": {},
   "source": [
    "## Champions (number of NCAA championship titles by school)"
   ]
  },
  {
   "cell_type": "code",
   "execution_count": null,
   "id": "03a76477",
   "metadata": {},
   "outputs": [],
   "source": [
    "#Create and plot barchart\n",
    "fig, ax = plt.subplots(figsize=(10, 6))\n",
    "plot = sns.barplot(x=champs_df[\"school\"], y=champs_df['title_count'])\n",
    "plt.setp(plot.get_xticklabels(), rotation=90)\n",
    "plt.title('Number of NCAA Championship Titles by School')\n",
    "plt.xlabel('Schools')\n",
    "plt.ylabel('# of Titles')\n",
    "plt.savefig('graphics/school_to_champs_barchart.pdf', bbox_inches='tight')\n",
    "plt.show()\n",
    "\n",
    "states_champs_df = champs_df.groupby('state').sum(numeric_only=\"True\").reset_index()\n",
    "\n",
    "fig = px.choropleth(states_champs_df,  \n",
    "                    locations=\"state\",  \n",
    "                    color=\"title_count\", \n",
    "                    hover_name=\"state\", \n",
    "                    color_continuous_scale=\"ylorrd\",\n",
    "                    locationmode = 'USA-states')\n",
    "fig.update_layout(\n",
    "    title_text = 'What States are Home to the Most Schools Winning NCAA Championships?', \n",
    "    geo_scope='usa',\n",
    ")\n",
    "fig.write_image('graphics/school_state_to_champs_map.pdf')\n",
    "fig.show()"
   ]
  },
  {
   "cell_type": "markdown",
   "id": "cc525f1b",
   "metadata": {},
   "source": [
    "## Runnerups (number of NCAA runnerup titles by school)"
   ]
  },
  {
   "cell_type": "code",
   "execution_count": null,
   "id": "ab01b526",
   "metadata": {},
   "outputs": [],
   "source": [
    "#Create and plot bargraph\n",
    "fig, ax = plt.subplots(figsize=(10, 6))\n",
    "plot = sns.barplot(x=runnerup_df[\"school\"], y=runnerup_df['title_count'])\n",
    "plt.setp(plot.get_xticklabels(), rotation=90)\n",
    "plt.title('Number of NCAA Runnerup Titles by School')\n",
    "plt.xlabel('Schools')\n",
    "plt.ylabel('# of Titles')\n",
    "plt.savefig('graphics/school_to_runnerup_barchart.pdf', bbox_inches='tight')\n",
    "\n",
    "plt.show()\n",
    "\n",
    "states_runnerups_df = runnerup_df.groupby('state').sum(numeric_only=\"True\").reset_index()\n",
    "\n",
    "fig = px.choropleth(states_runnerups_df,  \n",
    "                    locations=\"state\",  \n",
    "                    color=\"title_count\", \n",
    "                    hover_name=\"state\", \n",
    "                    color_continuous_scale=\"ylorrd\",\n",
    "                    locationmode = 'USA-states')\n",
    "fig.update_layout(\n",
    "    title_text = 'What States are Home to the Most NCAA Championship or Runnerup Titles?', \n",
    "    geo_scope='usa',\n",
    ")\n",
    "fig.write_image('graphics/school_state_to_runnerup_map.pdf')\n",
    "fig.show()"
   ]
  },
  {
   "cell_type": "markdown",
   "id": "ec0d958b",
   "metadata": {},
   "source": [
    "## Combined (number of NCAA championship and runnerup titles by school)"
   ]
  },
  {
   "cell_type": "code",
   "execution_count": null,
   "id": "443d92fe",
   "metadata": {},
   "outputs": [],
   "source": [
    "#Create and plot bargraph\n",
    "fig, ax = plt.subplots(figsize=(10, 6))\n",
    "plot = sns.barplot(x=combined_df.school, y=combined_df['title_count'])\n",
    "plt.setp(plot.get_xticklabels(), rotation=90)\n",
    "plt.title('Number of NCAA Championship and Runnerup Titles by School')\n",
    "plt.xlabel('Schools')\n",
    "plt.ylabel('# of Titles')\n",
    "plt.savefig('graphics/school_to_any_title_barchart.pdf', bbox_inches='tight')\n",
    "plt.show()\n",
    "\n",
    "\n",
    "\n",
    "states_both_df = states_runnerups_df.set_index('state').add(states_champs_df.set_index('state'), fill_value=0).reset_index()\n",
    "\n",
    "fig = px.choropleth(states_both_df,  \n",
    "                    locations=\"state\",  \n",
    "                    color=\"title_count\", \n",
    "                    hover_name=\"state\", \n",
    "                    color_continuous_scale=\"ylorrd\",\n",
    "                    locationmode = 'USA-states')\n",
    "fig.update_layout(\n",
    "    title_text = 'What States are Home to the Most NCAA Championship or Runnerup Titles?', \n",
    "    geo_scope='usa',\n",
    ")\n",
    "fig.write_image('graphics/school_state_to_any_title_map.pdf')\n",
    "fig.show()"
   ]
  },
  {
   "cell_type": "markdown",
   "id": "ab179444",
   "metadata": {},
   "source": [
    "## Correlation between titles and players entering the MLB"
   ]
  },
  {
   "cell_type": "code",
   "execution_count": null,
   "id": "39bf13aa",
   "metadata": {},
   "outputs": [],
   "source": [
    "#Remove states column\n",
    "school_df = college_df.drop(columns=[\"state\"])"
   ]
  },
  {
   "cell_type": "markdown",
   "id": "7c791b4c",
   "metadata": {},
   "source": [
    "### Champions"
   ]
  },
  {
   "cell_type": "code",
   "execution_count": null,
   "id": "79908def",
   "metadata": {},
   "outputs": [],
   "source": [
    "# #Drop tuples column\n",
    "# winners_df = champs_df.drop(columns=[\"tuples\"])\n",
    "winners_df = champs_df.copy()\n",
    "\n",
    "#Merge championship title info with college players info\n",
    "titles_pros_df = pd.merge(winners_df, school_df)\n",
    "\n",
    "#Get correlation coefficient\n",
    "corr, _ = pearsonr(titles_pros_df.title_count, titles_pros_df.player_ct)\n",
    "\n",
    "#Plot titles vs players sent to mlb\n",
    "sns.scatterplot(x=titles_pros_df.title_count, y=titles_pros_df.player_ct)\n",
    "plt.title('Number of NCAA Championship Titles vs Number of Players Entering the MLB')\n",
    "plt.xlabel('# of Titles')\n",
    "plt.ylabel('# of Players')\n",
    "plt.xlim([0, 15])\n",
    "plt.text(8, 5, 'Pearsons Correlation: %.3f' % corr)\n",
    "plt.savefig('graphics/champs_vs_mlb_scatter.pdf', bbox_inches='tight')\n",
    "plt.show()"
   ]
  },
  {
   "cell_type": "markdown",
   "id": "f79974ff",
   "metadata": {},
   "source": [
    "### Runnerups"
   ]
  },
  {
   "cell_type": "code",
   "execution_count": null,
   "id": "1ac13073",
   "metadata": {},
   "outputs": [],
   "source": [
    "#Drop tuples column\n",
    "# runnersup_df = runnerup_df.drop(columns=[\"tuples\"])\n",
    "runnersup_df = runnerup_df.copy()\n",
    "\n",
    "#Merge runnerup title info with college players info\n",
    "runnerup_titles_pros_df = pd.merge(runnersup_df, school_df)\n",
    "\n",
    "#Get correlation coefficient\n",
    "corr, _ = pearsonr(runnerup_titles_pros_df.title_count, runnerup_titles_pros_df.player_ct)\n",
    "\n",
    "#Plot titles vs players sent to mlb\n",
    "sns.scatterplot(x=runnerup_titles_pros_df.title_count, y=runnerup_titles_pros_df.player_ct)\n",
    "plt.title('Number of NCAA Runnerup Titles vs Number of Players Entering the MLB')\n",
    "plt.xlabel('# of Titles')\n",
    "plt.ylabel('# of Players')\n",
    "plt.xlim([0, 15])\n",
    "plt.text(8, 5, 'Pearsons Correlation: %.3f' % corr)\n",
    "plt.savefig('graphics/runnerup_vs_mlb_scatter.pdf', bbox_inches='tight')\n",
    "plt.show()"
   ]
  },
  {
   "cell_type": "markdown",
   "id": "2f0e083c",
   "metadata": {},
   "source": [
    "### Combined champions and runnerups"
   ]
  },
  {
   "cell_type": "code",
   "execution_count": null,
   "id": "0378dc91",
   "metadata": {},
   "outputs": [],
   "source": [
    "#Drop tuples column\n",
    "# both_df = combined_df.drop(columns=[\"tuples\"])\n",
    "\n",
    "both_df = combined_df.copy()\n",
    "\n",
    "#Merge combined titles info with college players info\n",
    "combined_titles_pros_df = pd.merge(both_df, school_df)\n",
    "\n",
    "#Get correlation coefficient\n",
    "corr, _ = pearsonr(combined_titles_pros_df.title_count, combined_titles_pros_df.player_ct)\n",
    "\n",
    "#Plot titles vs players sent to mlb\n",
    "sns.scatterplot(x=combined_titles_pros_df.title_count, y=combined_titles_pros_df.player_ct)\n",
    "plt.title('Number of NCAA Championship and Runnerup Titles vs Number of Players Entering the MLB')\n",
    "plt.xlabel('# of Titles')\n",
    "plt.ylabel('# of Players')\n",
    "plt.xlim([0, 15])\n",
    "plt.text(8, 5, 'Pearsons Correlation: %.3f' % corr)\n",
    "plt.savefig('graphics/any_title_vs_mlb_scatter.pdf', bbox_inches='tight')\n",
    "plt.show()"
   ]
  },
  {
   "cell_type": "code",
   "execution_count": null,
   "id": "9ed5450c",
   "metadata": {},
   "outputs": [],
   "source": []
  }
 ],
 "metadata": {
  "kernelspec": {
   "display_name": "Python 3 (ipykernel)",
   "language": "python",
   "name": "python3"
  },
  "language_info": {
   "codemirror_mode": {
    "name": "ipython",
    "version": 3
   },
   "file_extension": ".py",
   "mimetype": "text/x-python",
   "name": "python",
   "nbconvert_exporter": "python",
   "pygments_lexer": "ipython3",
   "version": "3.9.6"
  },
  "vscode": {
   "interpreter": {
    "hash": "1c2fd5943edac580353e906f2ca32c9d9084056897d5727d467ea41a1ab3d883"
   }
  }
 },
 "nbformat": 4,
 "nbformat_minor": 5
}
