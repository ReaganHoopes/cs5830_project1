{
 "cells": [
  {
   "cell_type": "markdown",
   "id": "b0052f2f",
   "metadata": {},
   "source": [
    "# Imports"
   ]
  },
  {
   "cell_type": "code",
   "execution_count": null,
   "id": "47dd714d",
   "metadata": {},
   "outputs": [],
   "source": [
    "import numpy as np\n",
    "import pandas as pd\n",
    "import seaborn as sns\n",
    "import matplotlib.pyplot as plt\n",
    "import numpy\n",
    "from scipy.stats import pearsonr\n",
    "\n",
    "from wordcloud import WordCloud, STOPWORDS"
   ]
  },
  {
   "cell_type": "markdown",
   "id": "e8c01d69",
   "metadata": {},
   "source": [
    "# Analysis 1"
   ]
  },
  {
   "cell_type": "markdown",
   "id": "b26ab6cd",
   "metadata": {},
   "source": [
    "## Number of Players in the MLB Since 1948 by Last School Attended"
   ]
  },
  {
   "cell_type": "code",
   "execution_count": null,
   "id": "017e7e2f",
   "metadata": {},
   "outputs": [],
   "source": [
    "#Create dataframes for college playing information and list of schools\n",
    "college_df = pd.read_csv(\"baseballdatabank-2022.2/contrib/CollegePlaying.csv\")\n",
    "schools_df = pd.read_csv(\"baseballdatabank-2022.2/contrib/Schools.csv\")\n",
    "\n",
    "#Sort college playing information by player, then year\n",
    "college_df = college_df.sort_values(by=['playerID', 'yearID'], ascending=[False, False])\n",
    "\n",
    "#Only keep data since from 1948 and after, convert year to string, group each player, and concatenate schoolIDs and years\n",
    "college_df = college_df[college_df['yearID'] > 1947] \n",
    "college_df = college_df.astype({'yearID':'string'})\n",
    "college_df = college_df.groupby(by=\"playerID\").agg({'schoolID': ' '.join, 'yearID': ' '.join})\n",
    "\n",
    "#Only want to look at the school that was most recently attended before entering the MLB (so if an athlete has transfered, the first institution attended is ignored)\n",
    "college_df[\"schoolID\"] = college_df[\"schoolID\"].str.split(\" \").str[0]\n",
    "college_df[\"yearID\"] = college_df[\"yearID\"].str.split(\" \").str[0]\n",
    "\n",
    "#Add a player count column and group columns by the school (to get the number of MLB players from each school)\n",
    "college_df['player_ct'] = 1\n",
    "college_df = college_df.groupby(by=\"schoolID\").sum()\n",
    "\n",
    "#Sort colleges by number of players and reset the index\n",
    "college_df = college_df.sort_values(by=['player_ct'], ascending=[False])\n",
    "college_df = college_df.reset_index()\n",
    "\n",
    "#Drop city and country data from schools dataframe and merge with college playing dataframe\n",
    "schools_df = schools_df.drop(columns=[\"city\", \"country\"])\n",
    "college_df = pd.merge(college_df, schools_df)\n",
    "\n",
    "#Drop the school ID and rename \"name_full\" column to \"school\"\n",
    "college_df = college_df.drop(columns=[\"schoolID\"])\n",
    "college_df.rename(columns = {'name_full': 'school'}, inplace = True)\n",
    "\n",
    "#Keep only the top n schools by number of players in the MLB\n",
    "n = 30\n",
    "college_n_df = college_df.head(n)\n",
    "\n",
    "#Create and plot bargraph\n",
    "fig, ax = plt.subplots(figsize=(10, 6))\n",
    "plot = sns.barplot(x=college_n_df.school, y=college_n_df['player_ct'])\n",
    "plt.setp(plot.get_xticklabels(), rotation=90)\n",
    "plt.title('Top ' + str(n) + ' Schools With the Most Number of Players Who Have Entered the MLB since 1948')\n",
    "plt.xlabel('Schools')\n",
    "plt.ylabel('# of Players')\n",
    "plt.show()\n",
    "\n",
    "#Create and plot wordcloud\n",
    "college_n_df[\"tuples\"] = list(zip(college_n_df.school, college_df.player_ct))\n",
    "\n",
    "d = {}\n",
    "for s, c in college_n_df[\"tuples\"]:\n",
    "    d[s] = c\n",
    "\n",
    "wordcloud = WordCloud(prefer_horizontal=1).generate_from_frequencies(d)\n",
    "\n",
    "plt.figure()\n",
    "fig, ax = plt.subplots(figsize=(15, 6))\n",
    "plt.imshow(wordcloud, interpolation=\"bilinear\")\n",
    "plt.axis(\"off\")\n",
    "plt.show()"
   ]
  },
  {
   "cell_type": "markdown",
   "id": "6b09d03a",
   "metadata": {},
   "source": [
    "# Analysis 2"
   ]
  },
  {
   "cell_type": "markdown",
   "id": "ef31a434",
   "metadata": {},
   "source": [
    "# Analysis 3"
   ]
  },
  {
   "cell_type": "markdown",
   "id": "43aad516",
   "metadata": {},
   "source": [
    "# Analysis 4"
   ]
  },
  {
   "cell_type": "code",
   "execution_count": null,
   "id": "83e8263b",
   "metadata": {},
   "outputs": [],
   "source": []
  }
 ],
 "metadata": {
  "kernelspec": {
   "display_name": "Python 3 (ipykernel)",
   "language": "python",
   "name": "python3"
  },
  "language_info": {
   "codemirror_mode": {
    "name": "ipython",
    "version": 3
   },
   "file_extension": ".py",
   "mimetype": "text/x-python",
   "name": "python",
   "nbconvert_exporter": "python",
   "pygments_lexer": "ipython3",
   "version": "3.9.6"
  }
 },
 "nbformat": 4,
 "nbformat_minor": 5
}
