{
 "cells": [
  {
   "cell_type": "markdown",
   "id": "b0052f2f",
   "metadata": {},
   "source": [
    "# Imports"
   ]
  },
  {
   "cell_type": "code",
   "execution_count": null,
   "id": "47dd714d",
   "metadata": {},
   "outputs": [],
   "source": [
    "import numpy as np\n",
    "import pandas as pd\n",
    "import seaborn as sns\n",
    "import matplotlib.pyplot as plt\n",
    "import numpy\n",
    "from scipy.stats import pearsonr\n",
    "import plotly.express as px  \n",
    "\n",
    "from wordcloud import WordCloud, STOPWORDS"
   ]
  },
  {
   "cell_type": "markdown",
   "id": "e8c01d69",
   "metadata": {},
   "source": [
    "# Analysis 1"
   ]
  },
  {
   "cell_type": "markdown",
   "id": "b26ab6cd",
   "metadata": {},
   "source": [
    "## Number of Players in the MLB Since 1948 by Last School Attended"
   ]
  },
  {
   "cell_type": "code",
   "execution_count": null,
   "id": "017e7e2f",
   "metadata": {},
   "outputs": [],
   "source": [
    "#Create dataframes for college playing information and list of schools\n",
    "college_df = pd.read_csv(\"baseballdatabank-2022.2/contrib/CollegePlaying.csv\")\n",
    "schools_df = pd.read_csv(\"baseballdatabank-2022.2/contrib/Schools.csv\")\n",
    "\n",
    "#Sort college playing information by player, then year\n",
    "college_df = college_df.sort_values(by=['playerID', 'yearID'], ascending=[False, False])\n",
    "\n",
    "#Only keep data since from 1948 and after, convert year to string, group each player, and concatenate schoolIDs and years\n",
    "college_df = college_df[college_df['yearID'] > 1947] \n",
    "college_df = college_df.astype({'yearID':'string'})\n",
    "college_df = college_df.groupby(by=\"playerID\").agg({'schoolID': ' '.join, 'yearID': ' '.join})\n",
    "\n",
    "#Only want to look at the school that was most recently attended before entering the MLB (so if an athlete has transfered, the first institution attended is ignored)\n",
    "college_df[\"schoolID\"] = college_df[\"schoolID\"].str.split(\" \").str[0]\n",
    "college_df[\"yearID\"] = college_df[\"yearID\"].str.split(\" \").str[0]\n",
    "\n",
    "#Add a player count column and group columns by the school (to get the number of MLB players from each school)\n",
    "college_df['player_ct'] = 1\n",
    "# college_df = college_df.groupby(by=\"schoolID\").sum()\n",
    "college_df = college_df.groupby(by=\"schoolID\").agg({\"player_ct\":\"sum\"})\n",
    "\n",
    "\n",
    "#Sort colleges by number of players and reset the index\n",
    "college_df = college_df.sort_values(by=['player_ct'], ascending=[False])\n",
    "college_df = college_df.reset_index()\n",
    "\n",
    "#Drop city and country data from schools dataframe and merge with college playing dataframe\n",
    "schools_df = schools_df.drop(columns=[\"city\", \"country\"])\n",
    "college_df = pd.merge(college_df, schools_df)\n",
    "\n",
    "#Drop the school ID and rename \"name_full\" column to \"school\"\n",
    "college_df = college_df.drop(columns=[\"schoolID\"])\n",
    "college_df.rename(columns = {'name_full': 'school'}, inplace = True)\n",
    "\n",
    "#Keep only the top n schools by number of players in the MLB\n",
    "n = 30\n",
    "college_n_df = college_df.head(n)\n",
    "\n",
    "#Create and plot bargraph\n",
    "fig, ax = plt.subplots(figsize=(10, 6))\n",
    "plot = sns.barplot(x=college_n_df.school, y=college_n_df['player_ct'])\n",
    "plt.setp(plot.get_xticklabels(), rotation=90)\n",
    "plt.title('Top ' + str(n) + ' Schools With the Most Number of Players Who Have Entered the MLB since 1948')\n",
    "plt.xlabel('Schools')\n",
    "plt.ylabel('# of Players')\n",
    "plt.show()\n",
    "\n",
    "\n",
    "#Create and plot wordcloud\n",
    "college_n_df[\"tuples\"] = list(zip(college_n_df.school, college_n_df.player_ct))\n",
    "# college_n_df.iloc[\"tuples\"] = list(zip(college_n_df.school, college_df.player_ct))\n",
    "\n",
    "d = {}\n",
    "for s, c in college_n_df[\"tuples\"]:\n",
    "    d[s] = c\n",
    "\n",
    "wordcloud = WordCloud(prefer_horizontal=1).generate_from_frequencies(d)\n",
    "\n",
    "plt.figure()\n",
    "fig, ax = plt.subplots(figsize=(15, 6))\n",
    "plt.imshow(wordcloud, interpolation=\"bilinear\")\n",
    "plt.axis(\"off\")\n",
    "plt.show()"
   ]
  },
  {
   "cell_type": "markdown",
   "id": "041b79e0",
   "metadata": {},
   "source": [
    "## How many players are entering the MLB from schools in each state?"
   ]
  },
  {
   "cell_type": "code",
   "execution_count": null,
   "id": "ae423bc7",
   "metadata": {},
   "outputs": [],
   "source": [
    "#Drop school column to create a new data frame and sum the number of players who came out of a school in each given state\n",
    "college_states_df = college_df.drop(columns=[\"school\"])\n",
    "college_states_df = college_states_df.groupby(by=\"state\").sum()\n",
    "\n",
    "#Reset index and rename columns\n",
    "college_states_df = college_states_df.reset_index()\n",
    "college_states_df.rename(columns = {'state': 'State', 'player_ct': 'Player Count'}, inplace = True)\n",
    "\n",
    "#Create and plot bargraph\n",
    "fig, ax = plt.subplots(figsize=(10, 6))\n",
    "plot = sns.barplot(x=college_states_df.State, y=college_states_df['Player Count'])\n",
    "plt.setp(plot.get_xticklabels(), rotation=90)\n",
    "plt.title('Number of Players Entering the MLB from Schools in Each State since 1948')\n",
    "plt.xlabel('States')\n",
    "plt.ylabel('# of Players')\n",
    "plt.show()\n",
    "\n",
    "#Plot US heat map\n",
    "fig = px.choropleth(college_states_df,  \n",
    "                    locations=\"State\",  \n",
    "                    color=\"Player Count\", \n",
    "                    hover_name=\"State\", \n",
    "                    locationmode = 'USA-states')\n",
    "fig.update_layout(\n",
    "    title_text = 'What States are Home to the Schools Sending the Most Players to the MLB?', \n",
    "    geo_scope='usa',\n",
    ")\n",
    "fig.show()"
   ]
  },
  {
   "cell_type": "markdown",
   "id": "6b09d03a",
   "metadata": {},
   "source": [
    "# Analysis 2"
   ]
  },
  {
   "cell_type": "markdown",
   "id": "b6f16efc",
   "metadata": {},
   "source": [
    "## Obtain Data"
   ]
  },
  {
   "cell_type": "code",
   "execution_count": null,
   "id": "b5948e8d",
   "metadata": {},
   "outputs": [],
   "source": [
    "champs_df = pd.read_csv(\"baseballdatabank-2022.2/outside_data/ncaa_champs_history.csv\")\n",
    "\n",
    "#Removing covid year and any other year with no champs and make a copy \n",
    "champs_df = champs_df[champs_df.runnerup != \"--\"]\n",
    "runnerup_df = champs_df.copy()\n",
    "\n",
    "#Drop columns, so one dataframe has NCAA champions and the other has NCAA runnerups\n",
    "champs_df = champs_df.drop(columns=[\"runnerup\", \"year\"])\n",
    "runnerup_df = runnerup_df.drop(columns=[\"champ\", \"year\"])\n",
    "\n",
    "#Change column names from champ/runnerup to school and create a title_count column which holds the number of respective titles by school\n",
    "champs_df.rename(columns = {'champ': 'school'}, inplace = True)\n",
    "runnerup_df.rename(columns = {'runnerup': 'school'}, inplace = True)\n",
    "champs_df[\"title_count\"] = 1\n",
    "runnerup_df[\"title_count\"] = 1\n",
    "champs_df = champs_df.groupby(by=\"school\").sum()\n",
    "runnerup_df = runnerup_df.groupby(by=\"school\").sum()\n",
    "\n",
    "#Reset index and sort by number of titles\n",
    "champs_df = champs_df.reset_index()\n",
    "runnerup_df = runnerup_df.reset_index()\n",
    "champs_df = champs_df.sort_values(by=[\"title_count\"], ascending=[False])\n",
    "runnerup_df = runnerup_df.sort_values(by=[\"title_count\"], ascending=[False])\n",
    "\n",
    "#Create a dataframe which stores the number of both champion and runnerup titles for each school (remove whitespace), sort by number of titles, reset index\n",
    "combined_df = pd.concat([champs_df, runnerup_df])\n",
    "combined_df = combined_df.apply(lambda x: x.str.strip() if x.dtype == \"object\" else x)\n",
    "combined_df[\"school\"].str.strip()\n",
    "combined_df = combined_df.groupby(by=[\"school\"]).sum()\n",
    "combined_df = combined_df.sort_values([\"title_count\"], ascending=[False])\n",
    "combined_df = combined_df.reset_index()"
   ]
  },
  {
   "cell_type": "markdown",
   "id": "f84f9cbd",
   "metadata": {},
   "source": [
    "## Champions (number of NCAA championship titles by school)"
   ]
  },
  {
   "cell_type": "code",
   "execution_count": null,
   "id": "03a76477",
   "metadata": {},
   "outputs": [],
   "source": [
    "#Create and plot barchart\n",
    "fig, ax = plt.subplots(figsize=(10, 6))\n",
    "plot = sns.barplot(x=champs_df[\"school\"], y=champs_df['title_count'])\n",
    "plt.setp(plot.get_xticklabels(), rotation=90)\n",
    "plt.title('Number of NCAA Championship Titles by School')\n",
    "plt.xlabel('Schools')\n",
    "plt.ylabel('# of Titles')\n",
    "plt.show()\n",
    "\n",
    "#Create and plot wordcloud\n",
    "champs_df[\"tuples\"] = list(zip(champs_df[\"school\"], champs_df[\"title_count\"]))\n",
    "d = {}\n",
    "for s, c in champs_df[\"tuples\"]:\n",
    "    d[s] = c\n",
    "\n",
    "wordcloud = WordCloud(prefer_horizontal=1).generate_from_frequencies(d)\n",
    "\n",
    "plt.figure()\n",
    "fig, ax = plt.subplots(figsize=(10, 6))\n",
    "plt.imshow(wordcloud, interpolation=\"bilinear\")\n",
    "plt.axis(\"off\")\n",
    "plt.show()"
   ]
  },
  {
   "cell_type": "markdown",
   "id": "cc525f1b",
   "metadata": {},
   "source": [
    "## Runnerups (number of NCAA runnerup titles by school)"
   ]
  },
  {
   "cell_type": "code",
   "execution_count": null,
   "id": "ab01b526",
   "metadata": {},
   "outputs": [],
   "source": [
    "#Create and plot bargraph\n",
    "fig, ax = plt.subplots(figsize=(10, 6))\n",
    "plot = sns.barplot(x=runnerup_df[\"school\"], y=runnerup_df['title_count'])\n",
    "plt.setp(plot.get_xticklabels(), rotation=90)\n",
    "plt.title('Number of NCAA Runnerup Titles by School')\n",
    "plt.xlabel('Schools')\n",
    "plt.ylabel('# of Titles')\n",
    "plt.show()\n",
    "\n",
    "\n",
    "#Create and plot wordcloud\n",
    "runnerup_df[\"tuples\"] = list(zip(runnerup_df[\"school\"], runnerup_df[\"title_count\"]))\n",
    "d = {}\n",
    "for s, c in runnerup_df[\"tuples\"]:\n",
    "    d[s] = c\n",
    "\n",
    "wordcloud = WordCloud(prefer_horizontal=1).generate_from_frequencies(d)\n",
    "\n",
    "plt.figure()\n",
    "fig, ax = plt.subplots(figsize=(10, 6))\n",
    "plt.imshow(wordcloud, interpolation=\"bilinear\")\n",
    "plt.axis(\"off\")\n",
    "plt.show()"
   ]
  },
  {
   "cell_type": "markdown",
   "id": "ec0d958b",
   "metadata": {},
   "source": [
    "## Combined (number of NCAA championship and runnerup titles by school)"
   ]
  },
  {
   "cell_type": "code",
   "execution_count": null,
   "id": "443d92fe",
   "metadata": {},
   "outputs": [],
   "source": [
    "#Create and plot bargraph\n",
    "fig, ax = plt.subplots(figsize=(10, 6))\n",
    "plot = sns.barplot(x=combined_df.school, y=combined_df['title_count'])\n",
    "plt.setp(plot.get_xticklabels(), rotation=90)\n",
    "plt.title('Number of NCAA Championship and Runnerup Titles by School')\n",
    "plt.xlabel('Schools')\n",
    "plt.ylabel('# of Titles')\n",
    "plt.show()\n",
    "\n",
    "#Create and plot wordcloud\n",
    "combined_df[\"tuples\"] = list(zip(combined_df[\"school\"], combined_df[\"title_count\"]))\n",
    "d = {}\n",
    "for s, c in combined_df[\"tuples\"]:\n",
    "    d[s] = c\n",
    "\n",
    "wordcloud = WordCloud(prefer_horizontal=1).generate_from_frequencies(d)\n",
    "\n",
    "plt.figure()\n",
    "fig, ax = plt.subplots(figsize=(10, 6))\n",
    "plt.imshow(wordcloud, interpolation=\"bilinear\")\n",
    "plt.axis(\"off\")\n",
    "plt.show()"
   ]
  },
  {
   "cell_type": "markdown",
   "id": "ab179444",
   "metadata": {},
   "source": [
    "## Correlation between titles and players entering the MLB"
   ]
  },
  {
   "cell_type": "code",
   "execution_count": null,
   "id": "39bf13aa",
   "metadata": {},
   "outputs": [],
   "source": [
    "#Remove states column\n",
    "college_df = college_df.drop(columns=[\"state\"])"
   ]
  },
  {
   "cell_type": "markdown",
   "id": "7c791b4c",
   "metadata": {},
   "source": [
    "### Champions"
   ]
  },
  {
   "cell_type": "code",
   "execution_count": null,
   "id": "79908def",
   "metadata": {},
   "outputs": [],
   "source": [
    "#Drop tuples column\n",
    "champs_df = champs_df.drop(columns=[\"tuples\"])\n",
    "\n",
    "#Merge championship title info with college players info\n",
    "titles_pros_df = pd.merge(champs_df, college_df)\n",
    "\n",
    "#Get correlation coefficient\n",
    "corr, _ = pearsonr(titles_pros_df.title_count, titles_pros_df.player_ct)\n",
    "\n",
    "#Plot titles vs players sent to mlb\n",
    "sns.scatterplot(x=titles_pros_df.title_count, y=titles_pros_df.player_ct)\n",
    "plt.title('Number of NCAA Championship Titles vs Number of Players Entering the MLB')\n",
    "plt.xlabel('# of Titles')\n",
    "plt.ylabel('# of Players')\n",
    "plt.xlim([0, 15])\n",
    "plt.text(8, 5, 'Pearsons Correlation: %.3f' % corr)\n",
    "plt.show()"
   ]
  },
  {
   "cell_type": "markdown",
   "id": "f79974ff",
   "metadata": {},
   "source": [
    "### Runnerups"
   ]
  },
  {
   "cell_type": "code",
   "execution_count": null,
   "id": "1ac13073",
   "metadata": {},
   "outputs": [],
   "source": [
    "#Drop tuples column\n",
    "runnerup_df = runnerup_df.drop(columns=[\"tuples\"])\n",
    "\n",
    "#Merge runnerup title info with college players info\n",
    "runnerup_titles_pros_df = pd.merge(runnerup_df, college_df)\n",
    "\n",
    "#Get correlation coefficient\n",
    "corr, _ = pearsonr(runnerup_titles_pros_df.title_count, runnerup_titles_pros_df.player_ct)\n",
    "\n",
    "#Plot titles vs players sent to mlb\n",
    "sns.scatterplot(x=runnerup_titles_pros_df.title_count, y=runnerup_titles_pros_df.player_ct)\n",
    "plt.title('Number of NCAA Runnerup Titles vs Number of Players Entering the MLB')\n",
    "plt.xlabel('# of Titles')\n",
    "plt.ylabel('# of Players')\n",
    "plt.xlim([0, 15])\n",
    "plt.text(8, 5, 'Pearsons Correlation: %.3f' % corr)\n",
    "plt.show()"
   ]
  },
  {
   "cell_type": "markdown",
   "id": "2f0e083c",
   "metadata": {},
   "source": [
    "### Combined champions and runnerups"
   ]
  },
  {
   "cell_type": "code",
   "execution_count": null,
   "id": "0378dc91",
   "metadata": {},
   "outputs": [],
   "source": [
    "#Drop tuples column\n",
    "combined_df = combined_df.drop(columns=[\"tuples\"])\n",
    "\n",
    "#Merge combined titles info with college players info\n",
    "combined_titles_pros_df = pd.merge(combined_df, college_df)\n",
    "\n",
    "#Get correlation coefficient\n",
    "corr, _ = pearsonr(combined_titles_pros_df.title_count, combined_titles_pros_df.player_ct)\n",
    "\n",
    "#Plot titles vs players sent to mlb\n",
    "sns.scatterplot(x=combined_titles_pros_df.title_count, y=combined_titles_pros_df.player_ct)\n",
    "plt.title('Number of NCAA Championship and Runnerup Titles vs Number of Players Entering the MLB')\n",
    "plt.xlabel('# of Titles')\n",
    "plt.ylabel('# of Players')\n",
    "plt.xlim([0, 15])\n",
    "plt.text(8, 5, 'Pearsons Correlation: %.3f' % corr)\n",
    "plt.show()"
   ]
  },
  {
   "cell_type": "markdown",
   "id": "ef31a434",
   "metadata": {},
   "source": [
    "# Analysis 3"
   ]
  },
  {
   "cell_type": "code",
   "execution_count": null,
   "id": "93709e7d",
   "metadata": {},
   "outputs": [],
   "source": []
  },
  {
   "cell_type": "markdown",
   "id": "43aad516",
   "metadata": {},
   "source": [
    "# Analysis 4"
   ]
  },
  {
   "cell_type": "code",
   "execution_count": null,
   "id": "83e8263b",
   "metadata": {},
   "outputs": [],
   "source": []
  }
 ],
 "metadata": {
  "kernelspec": {
   "display_name": "Python 3 (ipykernel)",
   "language": "python",
   "name": "python3"
  },
  "language_info": {
   "codemirror_mode": {
    "name": "ipython",
    "version": 3
   },
   "file_extension": ".py",
   "mimetype": "text/x-python",
   "name": "python",
   "nbconvert_exporter": "python",
   "pygments_lexer": "ipython3",
   "version": "3.9.6"
  }
 },
 "nbformat": 4,
 "nbformat_minor": 5
}
